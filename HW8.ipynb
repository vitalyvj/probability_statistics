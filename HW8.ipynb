{
 "cells": [
  {
   "cell_type": "code",
   "execution_count": 1,
   "metadata": {},
   "outputs": [],
   "source": [
    "import numpy as np\n",
    "from scipy import stats"
   ]
  },
  {
   "cell_type": "markdown",
   "metadata": {},
   "source": [
    "### Задание 1"
   ]
  },
  {
   "cell_type": "markdown",
   "metadata": {},
   "source": [
    "Объясняемая переменная y зависит от двух категориальных факторов A и B, причём фактор A имеет 3 уровня, а фактор B - 4 уровня. Результаты наблюдений приведены в таблице:"
   ]
  },
  {
   "cell_type": "code",
   "execution_count": 2,
   "metadata": {},
   "outputs": [],
   "source": [
    "y = [[2.68, 3.29, 2.88, 4.45],\n",
    "     [4.12, 4.96, 5.09, 5.22],\n",
    "     [5.52, 4.50, 5.42, 5.29]]"
   ]
  },
  {
   "cell_type": "markdown",
   "metadata": {},
   "source": [
    "С помощью двухфакторного дисперсионного анализа проверьте влияние каждого из факторов на переменную y."
   ]
  },
  {
   "cell_type": "code",
   "execution_count": 3,
   "metadata": {},
   "outputs": [],
   "source": [
    "y = np.array(y)"
   ]
  },
  {
   "cell_type": "markdown",
   "metadata": {},
   "source": [
    "Нулевые гипотезы:\n",
    "$H_{0a}: \\:\\: \\overline{Y_{1 \\ast}} = \\dots = \\overline{Y_{m \\ast}}, \\:\\:\n",
    "H_{0b}: \\:\\: \\overline{Y_{\\ast 1}} = \\dots = \\overline{Y_{\\ast k}}$"
   ]
  },
  {
   "cell_type": "markdown",
   "metadata": {},
   "source": [
    "Суммы квадратов отклонений:\n",
    "$SS_a = k \\cdot \\displaystyle\\sum_{i=1}^m \\left( \\overline{Y_{i \\ast}} - \\overline{Y} \\right)^2, \\:\\:\n",
    "SS_b = m \\cdot \\displaystyle\\sum_{j=1}^k \\left( \\overline{Y_{\\ast j}} - \\overline{Y} \\right)^2, \\:\\:\n",
    "SS_w = \\displaystyle\\sum_{i=1}^m \\displaystyle\\sum_{j=1}^k \\left( y_{ij} - \\overline{Y_{i \\ast}} - \\overline{Y_{\\ast j}} + \\overline{Y} \\right)^2$"
   ]
  },
  {
   "cell_type": "code",
   "execution_count": 4,
   "metadata": {},
   "outputs": [
    {
     "data": {
      "text/plain": [
       "(4.451666666666666,\n",
       " array([3.325 , 4.8475, 5.1825]),\n",
       " array([4.10666667, 4.25      , 4.46333333, 4.98666667]))"
      ]
     },
     "execution_count": 4,
     "metadata": {},
     "output_type": "execute_result"
    }
   ],
   "source": [
    "Y = y.mean()\n",
    "Yi = y.mean(axis=1)\n",
    "Yj = y.mean(axis=0)\n",
    "\n",
    "Y, Yi, Yj"
   ]
  },
  {
   "cell_type": "code",
   "execution_count": 5,
   "metadata": {},
   "outputs": [
    {
     "data": {
      "text/plain": [
       "(3, 4, 12)"
      ]
     },
     "execution_count": 5,
     "metadata": {},
     "output_type": "execute_result"
    }
   ],
   "source": [
    "m, k = y.shape\n",
    "n = m * k\n",
    "\n",
    "m, k, n"
   ]
  },
  {
   "cell_type": "code",
   "execution_count": 6,
   "metadata": {},
   "outputs": [
    {
     "data": {
      "text/plain": [
       "(7.8407166666666654, 1.338166666666669, 1.9298833333333327)"
      ]
     },
     "execution_count": 6,
     "metadata": {},
     "output_type": "execute_result"
    }
   ],
   "source": [
    "SS_a = k * sum((Yi - Y) ** 2)\n",
    "SS_b = m * sum((Yj - Y) ** 2)\n",
    "SS_w = 0\n",
    "\n",
    "for i in range(m):\n",
    "    for j in range(k):\n",
    "        SS_w += (y[i, j] - Yi[i] - Yj[j] + Y) ** 2\n",
    "\n",
    "SS_a, SS_b, SS_w"
   ]
  },
  {
   "cell_type": "markdown",
   "metadata": {},
   "source": [
    "Оценки дисперсий:\n",
    "$\\sigma_a^2 = \\dfrac{SS_a}{m - 1}, \\:\\: \\sigma_b^2 = \\dfrac{SS_b}{k - 1}, \\:\\:\n",
    "\\sigma_w^2 = \\dfrac{SS_w}{(k - 1) (m - 1)}$"
   ]
  },
  {
   "cell_type": "code",
   "execution_count": 7,
   "metadata": {},
   "outputs": [
    {
     "data": {
      "text/plain": [
       "(3.9203583333333327, 0.4460555555555563, 0.32164722222222214)"
      ]
     },
     "execution_count": 7,
     "metadata": {},
     "output_type": "execute_result"
    }
   ],
   "source": [
    "sigma2_a = SS_a / (m - 1)\n",
    "sigma2_b = SS_b / (k - 1)\n",
    "sigma2_w = SS_w / ((k - 1) * (m - 1))\n",
    "\n",
    "sigma2_a, sigma2_b, sigma2_w"
   ]
  },
  {
   "cell_type": "markdown",
   "metadata": {},
   "source": [
    "Статистика для гипотезы о влиянии фактора $a$:\n",
    "$F_a = \\dfrac{\\sigma_a^2}{\\sigma_w^2}$\n",
    "\n",
    "Статистика для гипотезы о влиянии фактора $b$:\n",
    "$F_b = \\dfrac{\\sigma_b^2}{\\sigma_w^2}$"
   ]
  },
  {
   "cell_type": "code",
   "execution_count": 8,
   "metadata": {},
   "outputs": [
    {
     "data": {
      "text/plain": [
       "(12.188379262995173, 1.386785038819275)"
      ]
     },
     "execution_count": 8,
     "metadata": {},
     "output_type": "execute_result"
    }
   ],
   "source": [
    "F_a = sigma2_a / sigma2_w\n",
    "F_b = sigma2_b / sigma2_w\n",
    "\n",
    "F_a, F_b"
   ]
  },
  {
   "cell_type": "markdown",
   "metadata": {},
   "source": [
    "Критическая область для фактора $a$: $\\Omega_{\\alpha_a} = \\left( t_{1 - \\alpha, \\: k_{1a}, \\: k_{2a}}, \\infty \\right), k_{1a} = m - 1, k_{2a} = n - m$\n",
    "\n",
    "Критическая область для фактора $b$: $\\Omega_{\\alpha_b} = \\left( t_{1 - \\alpha, \\: k_{1b}, \\: k_{2b}}, \\infty \\right), k_{1b} = k - 1, k_{2b} = n - k$"
   ]
  },
  {
   "cell_type": "code",
   "execution_count": 9,
   "metadata": {},
   "outputs": [
    {
     "data": {
      "text/plain": [
       "(4.25649472909375, 4.06618055135116)"
      ]
     },
     "execution_count": 9,
     "metadata": {},
     "output_type": "execute_result"
    }
   ],
   "source": [
    "alpha = 0.05\n",
    "t_a = stats.f.ppf(1 - alpha, m - 1, n - m)\n",
    "t_b = stats.f.ppf(1 - alpha, k - 1, n - k)\n",
    "\n",
    "\n",
    "t_a, t_b"
   ]
  },
  {
   "cell_type": "code",
   "execution_count": 10,
   "metadata": {},
   "outputs": [
    {
     "data": {
      "text/plain": [
       "True"
      ]
     },
     "execution_count": 10,
     "metadata": {},
     "output_type": "execute_result"
    }
   ],
   "source": [
    "F_a > t_a"
   ]
  },
  {
   "cell_type": "markdown",
   "metadata": {},
   "source": [
    "Значение статистики для фактора $a$ попадает в критическую область, следовательно, нулевая гипотеза $H_{0a}: \\overline{Y_{1 \\ast}} = \\dots = \\overline{Y_{m \\ast}}  \\:$ отвергается, а влияние фактора $a$ на результат наблюдений является статистически значимым"
   ]
  },
  {
   "cell_type": "code",
   "execution_count": 11,
   "metadata": {},
   "outputs": [
    {
     "data": {
      "text/plain": [
       "False"
      ]
     },
     "execution_count": 11,
     "metadata": {},
     "output_type": "execute_result"
    }
   ],
   "source": [
    "F_b > t_b"
   ]
  },
  {
   "cell_type": "markdown",
   "metadata": {},
   "source": [
    "Значение статистики для фактора $b$ не попадает в критическую область, следовательно, нулевая гипотеза $H_{0b}: \\overline{Y_{\\ast 1}} = \\dots = \\overline{Y_{\\ast k}} \\:$ принимается, а влияние фактора $b$ на результат наблюдений статистически значимым не является"
   ]
  }
 ],
 "metadata": {
  "kernelspec": {
   "display_name": "Python 3",
   "language": "python",
   "name": "python3"
  },
  "language_info": {
   "codemirror_mode": {
    "name": "ipython",
    "version": 3
   },
   "file_extension": ".py",
   "mimetype": "text/x-python",
   "name": "python",
   "nbconvert_exporter": "python",
   "pygments_lexer": "ipython3",
   "version": "3.8.5"
  }
 },
 "nbformat": 4,
 "nbformat_minor": 4
}
