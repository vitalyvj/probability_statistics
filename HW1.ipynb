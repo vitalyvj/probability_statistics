{
 "cells": [
  {
   "cell_type": "code",
   "execution_count": 1,
   "metadata": {},
   "outputs": [],
   "source": [
    "import numpy as np\n",
    "from math import factorial\n",
    "from tqdm.notebook import trange"
   ]
  },
  {
   "cell_type": "markdown",
   "metadata": {},
   "source": [
    "### Задача 1"
   ]
  },
  {
   "cell_type": "markdown",
   "metadata": {},
   "source": [
    "Подбрасываются три игральных кубика. Оцените вероятность того, что сумма значений этих кубиков не будет превышать 6"
   ]
  },
  {
   "cell_type": "code",
   "execution_count": 2,
   "metadata": {},
   "outputs": [],
   "source": [
    "def dices(n):\n",
    "    m = 0\n",
    "    for _ in range(n):\n",
    "        move = np.random.randint(1, 7, 3) # один бросок трех кубиков\n",
    "        if move.sum() <= 6:\n",
    "            m += 1\n",
    "    return m / n"
   ]
  },
  {
   "cell_type": "code",
   "execution_count": 3,
   "metadata": {},
   "outputs": [
    {
     "name": "stdout",
     "output_type": "stream",
     "text": [
      "Оценочная вероятность выпадения суммы не больше 6 равна 10.00% при 10 бросках\n",
      "Оценочная вероятность выпадения суммы не больше 6 равна 7.00% при 100 бросках\n",
      "Оценочная вероятность выпадения суммы не больше 6 равна 8.60% при 1000 бросках\n",
      "Оценочная вероятность выпадения суммы не больше 6 равна 9.12% при 10000 бросках\n",
      "Оценочная вероятность выпадения суммы не больше 6 равна 9.32% при 100000 бросках\n",
      "Оценочная вероятность выпадения суммы не больше 6 равна 9.30% при 1000000 бросках\n"
     ]
    }
   ],
   "source": [
    "for i in range(1, 7):\n",
    "    print(f'Оценочная вероятность выпадения суммы не больше 6 равна {dices(10 ** i) * 100:.2f}% при {10 ** i} бросках')"
   ]
  },
  {
   "cell_type": "markdown",
   "metadata": {},
   "source": [
    "*Второй способ, побыстрее:*"
   ]
  },
  {
   "cell_type": "code",
   "execution_count": 4,
   "metadata": {},
   "outputs": [],
   "source": [
    "def dices_v2(n):\n",
    "    first_dice = np.random.randint(1, 7, n) # n бросков одного кубика\n",
    "    second_dice = np.random.randint(1, 7, n)\n",
    "    third_dice = np.random.randint(1, 7, n)\n",
    "    return np.sum([first_dice + second_dice + third_dice <= 6]) / n"
   ]
  },
  {
   "cell_type": "code",
   "execution_count": 5,
   "metadata": {},
   "outputs": [
    {
     "name": "stdout",
     "output_type": "stream",
     "text": [
      "Оценочная вероятность выпадения суммы не больше 6 равна 10.00% при 10 бросках\n",
      "Оценочная вероятность выпадения суммы не больше 6 равна 12.00% при 100 бросках\n",
      "Оценочная вероятность выпадения суммы не больше 6 равна 9.80% при 1000 бросках\n",
      "Оценочная вероятность выпадения суммы не больше 6 равна 9.57% при 10000 бросках\n",
      "Оценочная вероятность выпадения суммы не больше 6 равна 9.11% при 100000 бросках\n",
      "Оценочная вероятность выпадения суммы не больше 6 равна 9.27% при 1000000 бросках\n",
      "Оценочная вероятность выпадения суммы не больше 6 равна 9.27% при 10000000 бросках\n",
      "Оценочная вероятность выпадения суммы не больше 6 равна 9.26% при 100000000 бросках\n",
      "Оценочная вероятность выпадения суммы не больше 6 равна 9.26% при 1000000000 бросках\n"
     ]
    }
   ],
   "source": [
    "for i in range(1, 10):\n",
    "    print(f'Оценочная вероятность выпадения суммы не больше 6 равна {dices_v2(10 ** i) * 100:.2f}% при {10 ** i} бросках')"
   ]
  },
  {
   "cell_type": "markdown",
   "metadata": {},
   "source": [
    "### Задача 2"
   ]
  },
  {
   "cell_type": "markdown",
   "metadata": {},
   "source": [
    "Имеется колода в 52 карты. Найти число возможностей вытянуть из неё 4 карты так, чтобы среди них был хотя бы один туз"
   ]
  },
  {
   "cell_type": "code",
   "execution_count": 6,
   "metadata": {},
   "outputs": [],
   "source": [
    "def combinations(k, n):\n",
    "    return factorial(n) // (factorial(k) * factorial(n - k))"
   ]
  },
  {
   "cell_type": "markdown",
   "metadata": {},
   "source": [
    "*Способ 1*"
   ]
  },
  {
   "cell_type": "code",
   "execution_count": 7,
   "metadata": {},
   "outputs": [
    {
     "name": "stdout",
     "output_type": "stream",
     "text": [
      "Число способов вытянуть 4 карты с тузом составляет 76145\n"
     ]
    }
   ],
   "source": [
    "print('Число способов вытянуть 4 карты с тузом составляет', \n",
    "      sum(combinations(i, 4) * combinations(4 - i, 48) for i in range(1, 5)))"
   ]
  },
  {
   "cell_type": "markdown",
   "metadata": {},
   "source": [
    "*Способ 2*"
   ]
  },
  {
   "cell_type": "code",
   "execution_count": 8,
   "metadata": {},
   "outputs": [
    {
     "name": "stdout",
     "output_type": "stream",
     "text": [
      "Число способов вытянуть 4 карты с тузом составляет 76145\n"
     ]
    }
   ],
   "source": [
    "print('Число способов вытянуть 4 карты с тузом составляет', \n",
    "      combinations(4, 52) - combinations(4, 48))"
   ]
  },
  {
   "cell_type": "markdown",
   "metadata": {},
   "source": [
    "### Задача 3"
   ]
  },
  {
   "cell_type": "markdown",
   "metadata": {},
   "source": [
    "Из 60 вопросов, входящих в экзаменационные билеты, студент знает 50. Какова вероятность того, что среди трёх наугад выбранных вопросов студент знает: а) все? б) два?"
   ]
  },
  {
   "cell_type": "code",
   "execution_count": 9,
   "metadata": {},
   "outputs": [
    {
     "name": "stdout",
     "output_type": "stream",
     "text": [
      "Вероятность знания ответов на все вопросы составляет 57.3%\n"
     ]
    }
   ],
   "source": [
    "win_papers = combinations(3, 50)\n",
    "all_papers = combinations(3, 60)\n",
    "\n",
    "print(f'Вероятность знания ответов на все вопросы составляет {win_papers / all_papers * 100:.1f}%')"
   ]
  },
  {
   "cell_type": "code",
   "execution_count": 10,
   "metadata": {},
   "outputs": [
    {
     "name": "stdout",
     "output_type": "stream",
     "text": [
      "Вероятность знания ответов на два вопроса из трех составляет 35.8%\n"
     ]
    }
   ],
   "source": [
    "win_papers = combinations(2, 50)\n",
    "fail_papers = combinations(1, 10)\n",
    "\n",
    "print(f'Вероятность знания ответов на два вопроса из трех составляет {win_papers * fail_papers / all_papers * 100:.1f}%')"
   ]
  },
  {
   "cell_type": "markdown",
   "metadata": {},
   "source": [
    "### Задача 4"
   ]
  },
  {
   "cell_type": "markdown",
   "metadata": {},
   "source": [
    "Бросается игральная кость. Пусть событие A - появление чётного числа, событие B - появление числа больше трёх. Являются ли эти события независимыми?"
   ]
  },
  {
   "cell_type": "code",
   "execution_count": 11,
   "metadata": {},
   "outputs": [
    {
     "name": "stdout",
     "output_type": "stream",
     "text": [
      "p(A) = 0.50 не равно p(A|B) = 0.67, следовательно, события не являются независимыми\n"
     ]
    }
   ],
   "source": [
    "p_A = 3/6 # p(А)\n",
    "p_B = 3/6 # p(B)\n",
    "p_AB = 2/6 # p(AB) - вероятность событий А и B одновременно\n",
    "p_A_B = p_AB / p_B # p(A|B)\n",
    "p_A == p_A_B # False\n",
    "\n",
    "print(f'p(A) = {p_A:.2f} не равно p(A|B) = {p_A_B:.2f}, следовательно, события не являются независимыми')"
   ]
  },
  {
   "cell_type": "markdown",
   "metadata": {},
   "source": [
    "### Задача 5"
   ]
  },
  {
   "cell_type": "markdown",
   "metadata": {},
   "source": [
    "Допустим, имеется некоторая очень редкая болезнь (поражает 0.1% населения). Вы приходите к врачу, вам делают тест на эту болезнь, и тест оказывается положительным. Врач говорит вам, что этот тест верно выявляет 99% больных этой болезнью и всего лишь в 1% случаев даёт ложный положительный ответ.\n",
    "\n",
    "Вопрос: какова вероятность, что вы действительно больны ей?"
   ]
  },
  {
   "cell_type": "markdown",
   "metadata": {},
   "source": [
    "Пусть событие $A$ - болен, событие $B$ - положительный тест:"
   ]
  },
  {
   "cell_type": "markdown",
   "metadata": {},
   "source": [
    "Формула полной вероятности: $P(A) = P(A | B) \\cdot P(B) + P ( A | \\overline{B} ) \\cdot P ( \\overline{B} )$; в нашем случае: $P(B) = P(B | A) \\cdot P(A) + P ( B | \\overline{A} ) \\cdot P ( \\overline{A} )$"
   ]
  },
  {
   "cell_type": "markdown",
   "metadata": {},
   "source": [
    "Формула Байеса: $P(A|B) = \\dfrac{P(B|A) \\cdot P(A)}{P(B)}$"
   ]
  },
  {
   "cell_type": "markdown",
   "metadata": {},
   "source": [
    "Следовательно: $P(A|B) = \\dfrac{P(B|A) \\cdot P(A)}{P(B | A) \\cdot P(A) + P ( B | \\overline{A} ) \\cdot P ( \\overline{A} )}$"
   ]
  },
  {
   "cell_type": "code",
   "execution_count": 12,
   "metadata": {},
   "outputs": [
    {
     "name": "stdout",
     "output_type": "stream",
     "text": [
      "Вероятность оказаться больным при положительном тесте равна 9.02%\n"
     ]
    }
   ],
   "source": [
    "p = 0.99 * 0.001 / (0.99 * 0.001 + 0.01 * (1 - 0.001))\n",
    "\n",
    "print(f'Вероятность оказаться больным при положительном тесте равна {p * 100:.2f}%')"
   ]
  }
 ],
 "metadata": {
  "kernelspec": {
   "display_name": "Python 3",
   "language": "python",
   "name": "python3"
  },
  "language_info": {
   "codemirror_mode": {
    "name": "ipython",
    "version": 3
   },
   "file_extension": ".py",
   "mimetype": "text/x-python",
   "name": "python",
   "nbconvert_exporter": "python",
   "pygments_lexer": "ipython3",
   "version": "3.8.6rc1"
  }
 },
 "nbformat": 4,
 "nbformat_minor": 4
}
